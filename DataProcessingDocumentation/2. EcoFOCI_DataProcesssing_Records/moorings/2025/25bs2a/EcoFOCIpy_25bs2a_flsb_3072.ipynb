{
 "cells": [
  {
   "cell_type": "markdown",
   "id": "educational-chosen",
   "metadata": {},
   "source": [
    "# Using EcoFOCIpy to process raw field data\n",
    "\n",
    "## Mooring / Timeseries Data\n",
    "\n",
    "Basic workflow for each instrument grouping is *(initial archive level)*:\n",
    "- Parse data from raw files into pandas dataframe\n",
    "- output initial files (pandas->csv) **ERDDAP NRT** when no meta data is added\n",
    "\n",
    "Convert to xarray dataframe for all following work *(working or final data level):\n",
    "- Add metadata from instrument yaml files and/or header info\n",
    "- ingest metadata from deployment/recovery records or cast logs\n",
    "- process data beyond simple file translate\n",
    "- apply any calibrations or corrections\n",
    "    + field corrections\n",
    "    + offsets\n",
    "    + instrument compensations\n",
    "    + some QC were available... this would be old-school simple bounds mostly\n",
    "- adjust time bounds and sample frequency (xarray dataframe)\n",
    "- save as CF netcdf via xarray: so many of the steps above are optional\n",
    "    + **ERDDAP NRT** if no corrections, offsets or time bounds are applied but some meta data is\n",
    "    + **Working and awaiting QC** has no ERDDAP representation and is a holding spot\n",
    "    + **ERDDAP Final** fully calibrated, qc'd and populated with meta information\n",
    "    + **ERDDAP Final** is pulled from final_data_cf , **ERDDAP NRT** is pulled from initial_archive\n",
    "\n",
    "Plot for preview and QC\n",
    "- preview images (indiv and/or collectively)\n",
    "- overlay cast data on timeseries (as field check)\n",
    "- manual qc process\n",
    "- automated qc process ML/AI\n",
    "\n",
    "Further refinenments for ERDDAP hosting:\n"
   ]
  },
  {
   "cell_type": "markdown",
   "id": "allied-miniature",
   "metadata": {},
   "source": [
    "## Example below is for EcoFluorometer with a single channel (Eco FLSB) but the workflow is similar for all instruments.\n",
    "\n",
    "Future processing of this instrument can be a simplified (no markdown) process which can be archived so that the procedure can be traced or updated"
   ]
  },
  {
   "cell_type": "code",
   "execution_count": 9,
   "id": "studied-pollution",
   "metadata": {
    "tags": []
   },
   "outputs": [],
   "source": [
    "import yaml\n",
    "\n",
    "import EcoFOCIpy.io.wetlabs_parser as wetlabs_parser #<- instrument specific\n",
    "import EcoFOCIpy.io.ncCFsave as ncCFsave\n",
    "import EcoFOCIpy.metaconfig.load_config as load_config"
   ]
  },
  {
   "cell_type": "markdown",
   "id": "public-millennium",
   "metadata": {},
   "source": [
    "The sample_data_dir should be included in the github package but may not be included in the pip install of the package\n",
    "\n",
    "## Simple Processing - first step"
   ]
  },
  {
   "cell_type": "code",
   "execution_count": 10,
   "id": "offensive-level",
   "metadata": {
    "tags": []
   },
   "outputs": [],
   "source": [
    "sample_data_dir = '/Users/bell/Programs/EcoFOCIpy/'\n",
    "user_data_dir = '/Users/bell/ecoraid/2025/Moorings/25bs2a/'"
   ]
  },
  {
   "cell_type": "code",
   "execution_count": 11,
   "id": "third-yellow",
   "metadata": {
    "tags": []
   },
   "outputs": [],
   "source": [
    "###############################################################\n",
    "# edit to point to {instrument sepcific} raw datafile \n",
    "datafile = user_data_dir+'raw/eco_fluor/1796.log'\n",
    "instrument = 'Eco-Fluorometer FLSB 1796'\n",
    "mooring_meta_file = user_data_dir+'logs/25BS-2A.yaml'\n",
    "inst_meta_file = sample_data_dir+'staticdata/instr_metaconfig/ecofluor.yaml'\n",
    "inst_shortname = 'eco'\n",
    "###############################################################\n",
    "\n",
    "#init and load data\n",
    "ecoflsb = wetlabs_parser.wetlabs()\n",
    "(ecoflsb_data,ecoflsb_header) = ecoflsb.parse(filename=datafile) "
   ]
  },
  {
   "cell_type": "code",
   "execution_count": 12,
   "id": "fifteen-military",
   "metadata": {
    "tags": []
   },
   "outputs": [
    {
     "data": {
      "text/plain": [
       "['$get\\n']"
      ]
     },
     "execution_count": 12,
     "metadata": {},
     "output_type": "execute_result"
    }
   ],
   "source": [
    "ecoflsb_header"
   ]
  },
  {
   "cell_type": "code",
   "execution_count": 13,
   "id": "alive-bruce",
   "metadata": {
    "tags": []
   },
   "outputs": [
    {
     "data": {
      "text/html": [
       "<div>\n",
       "<style scoped>\n",
       "    .dataframe tbody tr th:only-of-type {\n",
       "        vertical-align: middle;\n",
       "    }\n",
       "\n",
       "    .dataframe tbody tr th {\n",
       "        vertical-align: top;\n",
       "    }\n",
       "\n",
       "    .dataframe thead th {\n",
       "        text-align: right;\n",
       "    }\n",
       "</style>\n",
       "<table border=\"1\" class=\"dataframe\">\n",
       "  <thead>\n",
       "    <tr style=\"text-align: right;\">\n",
       "      <th></th>\n",
       "      <th>695</th>\n",
       "      <th>TempCount</th>\n",
       "    </tr>\n",
       "    <tr>\n",
       "      <th>date_time</th>\n",
       "      <th></th>\n",
       "      <th></th>\n",
       "    </tr>\n",
       "  </thead>\n",
       "  <tbody>\n",
       "    <tr>\n",
       "      <th>2025-04-29 19:00:16</th>\n",
       "      <td>4372.0</td>\n",
       "      <td>564.0</td>\n",
       "    </tr>\n",
       "    <tr>\n",
       "      <th>2025-04-29 19:00:17</th>\n",
       "      <td>4371.0</td>\n",
       "      <td>564.0</td>\n",
       "    </tr>\n",
       "    <tr>\n",
       "      <th>2025-04-29 19:00:18</th>\n",
       "      <td>4373.0</td>\n",
       "      <td>563.0</td>\n",
       "    </tr>\n",
       "    <tr>\n",
       "      <th>2025-04-29 19:00:19</th>\n",
       "      <td>4372.0</td>\n",
       "      <td>563.0</td>\n",
       "    </tr>\n",
       "    <tr>\n",
       "      <th>2025-04-29 19:00:20</th>\n",
       "      <td>4370.0</td>\n",
       "      <td>563.0</td>\n",
       "    </tr>\n",
       "    <tr>\n",
       "      <th>...</th>\n",
       "      <td>...</td>\n",
       "      <td>...</td>\n",
       "    </tr>\n",
       "    <tr>\n",
       "      <th>2025-09-03 04:00:17</th>\n",
       "      <td>4502.0</td>\n",
       "      <td>546.0</td>\n",
       "    </tr>\n",
       "    <tr>\n",
       "      <th>2025-09-03 04:00:18</th>\n",
       "      <td>4501.0</td>\n",
       "      <td>546.0</td>\n",
       "    </tr>\n",
       "    <tr>\n",
       "      <th>2025-09-03 04:00:19</th>\n",
       "      <td>4499.0</td>\n",
       "      <td>546.0</td>\n",
       "    </tr>\n",
       "    <tr>\n",
       "      <th>2025-09-03 04:00:21</th>\n",
       "      <td>4500.0</td>\n",
       "      <td>546.0</td>\n",
       "    </tr>\n",
       "    <tr>\n",
       "      <th>2025-09-03 04:00:22</th>\n",
       "      <td>NaN</td>\n",
       "      <td>NaN</td>\n",
       "    </tr>\n",
       "  </tbody>\n",
       "</table>\n",
       "<p>21238 rows × 2 columns</p>\n",
       "</div>"
      ],
      "text/plain": [
       "                        695  TempCount\n",
       "date_time                             \n",
       "2025-04-29 19:00:16  4372.0      564.0\n",
       "2025-04-29 19:00:17  4371.0      564.0\n",
       "2025-04-29 19:00:18  4373.0      563.0\n",
       "2025-04-29 19:00:19  4372.0      563.0\n",
       "2025-04-29 19:00:20  4370.0      563.0\n",
       "...                     ...        ...\n",
       "2025-09-03 04:00:17  4502.0      546.0\n",
       "2025-09-03 04:00:18  4501.0      546.0\n",
       "2025-09-03 04:00:19  4499.0      546.0\n",
       "2025-09-03 04:00:21  4500.0      546.0\n",
       "2025-09-03 04:00:22     NaN        NaN\n",
       "\n",
       "[21238 rows x 2 columns]"
      ]
     },
     "execution_count": 13,
     "metadata": {},
     "output_type": "execute_result"
    }
   ],
   "source": [
    "ecoflsb_data"
   ]
  },
  {
   "cell_type": "markdown",
   "id": "a6de77bb",
   "metadata": {},
   "source": [
    "### Engr2Sci Calibration (unique to wetlabs instruments)\n",
    "\n",
    "Must apply the known cal factors from the lab to the raw data to get science data.  These are linear transformations of the form `y=mx+b`, so a slope (m) and offset (b) should be provided.  Each channel has its own cal factor.  Currently there is no routine to read these from a database or file, so you need to input them into the object method.  \n",
    "\n",
    "Change the name of each channel below to be that of the column label (wavelenght), and change the 'outname' to be the netcdf CF compliant variable name (in the instrument yaml files)"
   ]
  },
  {
   "cell_type": "code",
   "execution_count": 27,
   "id": "cfc90fd1",
   "metadata": {
    "tags": []
   },
   "outputs": [
    {
     "name": "stdout",
     "output_type": "stream",
     "text": [
      "Warning: Calibration coefficients for channel 'channel_2' are missing or incomplete. Skipping.\n",
      "Warning: Calibration coefficients for channel 'channel_3' are missing or incomplete. Skipping.\n"
     ]
    },
    {
     "data": {
      "text/html": [
       "<div>\n",
       "<style scoped>\n",
       "    .dataframe tbody tr th:only-of-type {\n",
       "        vertical-align: middle;\n",
       "    }\n",
       "\n",
       "    .dataframe tbody tr th {\n",
       "        vertical-align: top;\n",
       "    }\n",
       "\n",
       "    .dataframe thead th {\n",
       "        text-align: right;\n",
       "    }\n",
       "</style>\n",
       "<table border=\"1\" class=\"dataframe\">\n",
       "  <thead>\n",
       "    <tr style=\"text-align: right;\">\n",
       "      <th></th>\n",
       "      <th>695</th>\n",
       "      <th>TempCount</th>\n",
       "      <th>chlor_fluorescence</th>\n",
       "    </tr>\n",
       "    <tr>\n",
       "      <th>date_time</th>\n",
       "      <th></th>\n",
       "      <th></th>\n",
       "      <th></th>\n",
       "    </tr>\n",
       "  </thead>\n",
       "  <tbody>\n",
       "    <tr>\n",
       "      <th>2025-04-29 19:00:16.000000000</th>\n",
       "      <td>4372.0</td>\n",
       "      <td>564.0</td>\n",
       "      <td>32.8472</td>\n",
       "    </tr>\n",
       "    <tr>\n",
       "      <th>2025-04-29 19:00:17.000017950</th>\n",
       "      <td>4371.0</td>\n",
       "      <td>564.0</td>\n",
       "      <td>32.8396</td>\n",
       "    </tr>\n",
       "    <tr>\n",
       "      <th>2025-04-29 19:00:18.000035901</th>\n",
       "      <td>4373.0</td>\n",
       "      <td>563.0</td>\n",
       "      <td>32.8548</td>\n",
       "    </tr>\n",
       "    <tr>\n",
       "      <th>2025-04-29 19:00:19.000053852</th>\n",
       "      <td>4372.0</td>\n",
       "      <td>563.0</td>\n",
       "      <td>32.8472</td>\n",
       "    </tr>\n",
       "    <tr>\n",
       "      <th>2025-04-29 19:00:20.000071802</th>\n",
       "      <td>4370.0</td>\n",
       "      <td>563.0</td>\n",
       "      <td>32.8320</td>\n",
       "    </tr>\n",
       "    <tr>\n",
       "      <th>...</th>\n",
       "      <td>...</td>\n",
       "      <td>...</td>\n",
       "      <td>...</td>\n",
       "    </tr>\n",
       "    <tr>\n",
       "      <th>2025-09-03 04:03:31.999910246</th>\n",
       "      <td>4501.0</td>\n",
       "      <td>546.0</td>\n",
       "      <td>33.8276</td>\n",
       "    </tr>\n",
       "    <tr>\n",
       "      <th>2025-09-03 04:03:32.999928197</th>\n",
       "      <td>4502.0</td>\n",
       "      <td>546.0</td>\n",
       "      <td>33.8352</td>\n",
       "    </tr>\n",
       "    <tr>\n",
       "      <th>2025-09-03 04:03:33.999946147</th>\n",
       "      <td>4501.0</td>\n",
       "      <td>546.0</td>\n",
       "      <td>33.8276</td>\n",
       "    </tr>\n",
       "    <tr>\n",
       "      <th>2025-09-03 04:03:34.999964098</th>\n",
       "      <td>4499.0</td>\n",
       "      <td>546.0</td>\n",
       "      <td>33.8124</td>\n",
       "    </tr>\n",
       "    <tr>\n",
       "      <th>2025-09-03 04:03:37.000000000</th>\n",
       "      <td>4500.0</td>\n",
       "      <td>546.0</td>\n",
       "      <td>33.8200</td>\n",
       "    </tr>\n",
       "  </tbody>\n",
       "</table>\n",
       "<p>21237 rows × 3 columns</p>\n",
       "</div>"
      ],
      "text/plain": [
       "                                  695  TempCount  chlor_fluorescence\n",
       "date_time                                                           \n",
       "2025-04-29 19:00:16.000000000  4372.0      564.0             32.8472\n",
       "2025-04-29 19:00:17.000017950  4371.0      564.0             32.8396\n",
       "2025-04-29 19:00:18.000035901  4373.0      563.0             32.8548\n",
       "2025-04-29 19:00:19.000053852  4372.0      563.0             32.8472\n",
       "2025-04-29 19:00:20.000071802  4370.0      563.0             32.8320\n",
       "...                               ...        ...                 ...\n",
       "2025-09-03 04:03:31.999910246  4501.0      546.0             33.8276\n",
       "2025-09-03 04:03:32.999928197  4502.0      546.0             33.8352\n",
       "2025-09-03 04:03:33.999946147  4501.0      546.0             33.8276\n",
       "2025-09-03 04:03:34.999964098  4499.0      546.0             33.8124\n",
       "2025-09-03 04:03:37.000000000  4500.0      546.0             33.8200\n",
       "\n",
       "[21237 rows x 3 columns]"
      ]
     },
     "execution_count": 27,
     "metadata": {},
     "output_type": "execute_result"
    }
   ],
   "source": [
    "cal_coef = {695:{'scaleFactor':0.0076,'darkCounts':50.0,'outname':'chlor_fluorescence'},\n",
    "            'channel_2':{'scaleFactor':0,'darkCounts':0,'outname':'channel_2'},\n",
    "            'channel_3':{'scaleFactor':0,'darkCounts':0,'outname':'channel_3'}            \n",
    "            }\n",
    "\n",
    "ecoflsb.engr2sci(cal_coef=cal_coef)"
   ]
  },
  {
   "cell_type": "markdown",
   "id": "ready-audit",
   "metadata": {},
   "source": [
    "## Time properties\n",
    "\n",
    "Its unusual that our clocks drift to the point of concern for our instruments (if an instrument is off by 3 minutes but only sampling hourly... regridding that data will result in minimal changes).  However, there are a few time oriented modifications that may need to be made.\n",
    "\n",
    "The can be classified into two categories:\n",
    "+ interpolate: these change the parameter values in accordance with the time edits\n",
    "    - linear interpolation is most common\n",
    "    - averaging of data and rebinning/resampling is also common (this needs to have the \"time lable\" thought out...)\n",
    "    - decimating is less common but does not impact the max/min values\n",
    "+ shift: these do not alter the measurements, just the timestamps they are associated with\n",
    "    - the round function will work well to correct small time errors/drifts **common**\n",
    "    - dropping extra precision on time (if you want hourly measurements, just remove all minute/second info... could cause large errors if rounding would have been more appropriate)"
   ]
  },
  {
   "cell_type": "markdown",
   "id": "supposed-bankruptcy",
   "metadata": {},
   "source": [
    "It is very easy to use pandas interplation and resample methods on the dataframe as is.  A few steps are suggested below:\n",
    "- parse out on-deck (predeployment and recovery) data.  This can be done via pandas or xarray but requires the mooring metadata to have been read in.  See future steps below.\n",
    "- even if the sample frequency is set to the desired measurement frequency, it would be good to perform a quick regridding as an assurance task\n",
    "- FOCI data is usualy 1min, 10min, 1hr - and the 1min data is a fairly new (sbe56) data stream\n",
    "    + subsampling high frequency data to lower frequency is easy via df.resample().mean() but it will label the new datapoint per default instructions.  The default is to label it with the left boundary of the bin.\n",
    "    + you may want to take the median instead of the mean for noisy data (fluorometer) , occasionally decimating may be more appropriate if you want to downsize the dataset size but not smear features\n",
    "    + shifting times can be a bit more involved.  There are two primary ways to do it, interpolate or shift (round)\n",
    "        - to interpolate, you will need to upsample your data to a higher frequency which will generate missing values, then interpolate (with a maximum gap size), then decimate.  This always has the artifact of smoothing data and decreasing the min/max values. **common on microcats and other 10min datasets**\n",
    "        - shifting usually just involves droping extra time \"digits\", if you want hourly, you could just drop the trailing minutes assuming you are just off the hour (8:05 -> 8:00) or you can round to the nearest time unit but niether of these changes the data value, just the time associated with it. **common on seacats and other hourly datasets**\n",
    "        - you may also be able to *shift* using the pandas datetime round function and specifing the desired frequency.\n",
    "    + I suggest if no change is needed... df.index.round(freq=*'your native sample freq'*)\n",
    "    "
   ]
  },
  {
   "cell_type": "markdown",
   "id": "f2774ce6",
   "metadata": {},
   "source": [
    "### Special note for Wetlabs times\n",
    "\n",
    "Historically these instruments have drifted significantly.  (usually to be slow) We keep track of the shift in seconds. and we do burst measurements with them.  How you want to tackle this is gonna be dependent on each instrument.  Goal is to stick to simple timeseries analysis via pandas though (as opposed to determining when the groups of each burst are sampled)"
   ]
  },
  {
   "cell_type": "code",
   "execution_count": 15,
   "id": "13c14c27",
   "metadata": {
    "tags": []
   },
   "outputs": [
    {
     "data": {
      "text/html": [
       "<div>\n",
       "<style scoped>\n",
       "    .dataframe tbody tr th:only-of-type {\n",
       "        vertical-align: middle;\n",
       "    }\n",
       "\n",
       "    .dataframe tbody tr th {\n",
       "        vertical-align: top;\n",
       "    }\n",
       "\n",
       "    .dataframe thead th {\n",
       "        text-align: right;\n",
       "    }\n",
       "</style>\n",
       "<table border=\"1\" class=\"dataframe\">\n",
       "  <thead>\n",
       "    <tr style=\"text-align: right;\">\n",
       "      <th></th>\n",
       "      <th>695</th>\n",
       "      <th>TempCount</th>\n",
       "    </tr>\n",
       "    <tr>\n",
       "      <th>date_time</th>\n",
       "      <th></th>\n",
       "      <th></th>\n",
       "    </tr>\n",
       "  </thead>\n",
       "  <tbody>\n",
       "    <tr>\n",
       "      <th>2025-04-29 19:00:16.000000000</th>\n",
       "      <td>4372.0</td>\n",
       "      <td>564.0</td>\n",
       "    </tr>\n",
       "    <tr>\n",
       "      <th>2025-04-29 19:00:17.000017950</th>\n",
       "      <td>4371.0</td>\n",
       "      <td>564.0</td>\n",
       "    </tr>\n",
       "    <tr>\n",
       "      <th>2025-04-29 19:00:18.000035901</th>\n",
       "      <td>4373.0</td>\n",
       "      <td>563.0</td>\n",
       "    </tr>\n",
       "    <tr>\n",
       "      <th>2025-04-29 19:00:19.000053852</th>\n",
       "      <td>4372.0</td>\n",
       "      <td>563.0</td>\n",
       "    </tr>\n",
       "    <tr>\n",
       "      <th>2025-04-29 19:00:20.000071802</th>\n",
       "      <td>4370.0</td>\n",
       "      <td>563.0</td>\n",
       "    </tr>\n",
       "    <tr>\n",
       "      <th>...</th>\n",
       "      <td>...</td>\n",
       "      <td>...</td>\n",
       "    </tr>\n",
       "    <tr>\n",
       "      <th>2025-09-03 04:03:31.999910246</th>\n",
       "      <td>4501.0</td>\n",
       "      <td>546.0</td>\n",
       "    </tr>\n",
       "    <tr>\n",
       "      <th>2025-09-03 04:03:32.999928197</th>\n",
       "      <td>4502.0</td>\n",
       "      <td>546.0</td>\n",
       "    </tr>\n",
       "    <tr>\n",
       "      <th>2025-09-03 04:03:33.999946147</th>\n",
       "      <td>4501.0</td>\n",
       "      <td>546.0</td>\n",
       "    </tr>\n",
       "    <tr>\n",
       "      <th>2025-09-03 04:03:34.999964098</th>\n",
       "      <td>4499.0</td>\n",
       "      <td>546.0</td>\n",
       "    </tr>\n",
       "    <tr>\n",
       "      <th>2025-09-03 04:03:37.000000000</th>\n",
       "      <td>4500.0</td>\n",
       "      <td>546.0</td>\n",
       "    </tr>\n",
       "  </tbody>\n",
       "</table>\n",
       "<p>21237 rows × 2 columns</p>\n",
       "</div>"
      ],
      "text/plain": [
       "                                  695  TempCount\n",
       "date_time                                       \n",
       "2025-04-29 19:00:16.000000000  4372.0      564.0\n",
       "2025-04-29 19:00:17.000017950  4371.0      564.0\n",
       "2025-04-29 19:00:18.000035901  4373.0      563.0\n",
       "2025-04-29 19:00:19.000053852  4372.0      563.0\n",
       "2025-04-29 19:00:20.000071802  4370.0      563.0\n",
       "...                               ...        ...\n",
       "2025-09-03 04:03:31.999910246  4501.0      546.0\n",
       "2025-09-03 04:03:32.999928197  4502.0      546.0\n",
       "2025-09-03 04:03:33.999946147  4501.0      546.0\n",
       "2025-09-03 04:03:34.999964098  4499.0      546.0\n",
       "2025-09-03 04:03:37.000000000  4500.0      546.0\n",
       "\n",
       "[21237 rows x 2 columns]"
      ]
     },
     "execution_count": 15,
     "metadata": {},
     "output_type": "execute_result"
    }
   ],
   "source": [
    "ecoflsb.NaT_removal()\n",
    "ecoflsb_data = ecoflsb.time_correction(offset_seconds=(3*60+16),method='linear') #positive to catch up with GPS time - linear correction may need to be applied... this is an offset shift at the moment \n",
    "ecoflsb_data"
   ]
  },
  {
   "cell_type": "code",
   "execution_count": 16,
   "id": "97545bab",
   "metadata": {
    "tags": []
   },
   "outputs": [
    {
     "data": {
      "text/html": [
       "<div>\n",
       "<style scoped>\n",
       "    .dataframe tbody tr th:only-of-type {\n",
       "        vertical-align: middle;\n",
       "    }\n",
       "\n",
       "    .dataframe tbody tr th {\n",
       "        vertical-align: top;\n",
       "    }\n",
       "\n",
       "    .dataframe thead th {\n",
       "        text-align: right;\n",
       "    }\n",
       "</style>\n",
       "<table border=\"1\" class=\"dataframe\">\n",
       "  <thead>\n",
       "    <tr style=\"text-align: right;\">\n",
       "      <th></th>\n",
       "      <th>695</th>\n",
       "      <th>TempCount</th>\n",
       "    </tr>\n",
       "    <tr>\n",
       "      <th>date_time</th>\n",
       "      <th></th>\n",
       "      <th></th>\n",
       "    </tr>\n",
       "  </thead>\n",
       "  <tbody>\n",
       "    <tr>\n",
       "      <th>2025-04-29 19:00:00</th>\n",
       "      <td>4371.000000</td>\n",
       "      <td>563.000000</td>\n",
       "    </tr>\n",
       "    <tr>\n",
       "      <th>2025-04-29 20:00:00</th>\n",
       "      <td>55.000000</td>\n",
       "      <td>563.000000</td>\n",
       "    </tr>\n",
       "    <tr>\n",
       "      <th>2025-04-29 21:00:00</th>\n",
       "      <td>50.000000</td>\n",
       "      <td>558.000000</td>\n",
       "    </tr>\n",
       "    <tr>\n",
       "      <th>2025-04-29 22:00:00</th>\n",
       "      <td>57.000000</td>\n",
       "      <td>552.000000</td>\n",
       "    </tr>\n",
       "    <tr>\n",
       "      <th>2025-04-29 23:00:00</th>\n",
       "      <td>56.000000</td>\n",
       "      <td>542.000000</td>\n",
       "    </tr>\n",
       "    <tr>\n",
       "      <th>...</th>\n",
       "      <td>...</td>\n",
       "      <td>...</td>\n",
       "    </tr>\n",
       "    <tr>\n",
       "      <th>2025-09-03 00:00:00</th>\n",
       "      <td>4452.700000</td>\n",
       "      <td>542.966667</td>\n",
       "    </tr>\n",
       "    <tr>\n",
       "      <th>2025-09-03 01:00:00</th>\n",
       "      <td>4471.366667</td>\n",
       "      <td>543.966667</td>\n",
       "    </tr>\n",
       "    <tr>\n",
       "      <th>2025-09-03 02:00:00</th>\n",
       "      <td>4487.466667</td>\n",
       "      <td>544.966667</td>\n",
       "    </tr>\n",
       "    <tr>\n",
       "      <th>2025-09-03 03:00:00</th>\n",
       "      <td>4495.733333</td>\n",
       "      <td>545.000000</td>\n",
       "    </tr>\n",
       "    <tr>\n",
       "      <th>2025-09-03 04:00:00</th>\n",
       "      <td>4500.350000</td>\n",
       "      <td>545.966667</td>\n",
       "    </tr>\n",
       "  </tbody>\n",
       "</table>\n",
       "<p>3034 rows × 2 columns</p>\n",
       "</div>"
      ],
      "text/plain": [
       "                             695   TempCount\n",
       "date_time                                   \n",
       "2025-04-29 19:00:00  4371.000000  563.000000\n",
       "2025-04-29 20:00:00    55.000000  563.000000\n",
       "2025-04-29 21:00:00    50.000000  558.000000\n",
       "2025-04-29 22:00:00    57.000000  552.000000\n",
       "2025-04-29 23:00:00    56.000000  542.000000\n",
       "...                          ...         ...\n",
       "2025-09-03 00:00:00  4452.700000  542.966667\n",
       "2025-09-03 01:00:00  4471.366667  543.966667\n",
       "2025-09-03 02:00:00  4487.466667  544.966667\n",
       "2025-09-03 03:00:00  4495.733333  545.000000\n",
       "2025-09-03 04:00:00  4500.350000  545.966667\n",
       "\n",
       "[3034 rows x 2 columns]"
      ]
     },
     "execution_count": 16,
     "metadata": {},
     "output_type": "execute_result"
    }
   ],
   "source": [
    "#the smaller you resample, the closer to the \"minute\" you will be, data is taken over 10seconds every hour\n",
    "# so by resampling over a two minute period, you should get a single data point of relevance and linearly interpolated values in all other 2min bins\n",
    "# tehn you can determin if you round or interpolate or truncate\n",
    "\n",
    "# offset here is 2min... lets just decimate by choosing the hourly data (which has been somewhat linearly interpolated already)\n",
    "\n",
    "ecoflsb_data = ecoflsb_data.resample('2min').median().interpolate()\n",
    "ecoflsb_data=ecoflsb_data[ecoflsb_data.index.minute==0]\n",
    "\n",
    "ecoflsb_data"
   ]
  },
  {
   "cell_type": "code",
   "execution_count": 17,
   "id": "undefined-membrane",
   "metadata": {},
   "outputs": [
    {
     "data": {
      "text/plain": [
       "<Axes: xlabel='date_time'>"
      ]
     },
     "execution_count": 17,
     "metadata": {},
     "output_type": "execute_result"
    },
    {
     "data": {
      "image/png": "[encoded data removed]",
      "text/plain": [
       "<Figure size 640x480 with 1 Axes>"
      ]
     },
     "metadata": {},
     "output_type": "display_data"
    }
   ],
   "source": [
    "ecoflsb_data.plot()"
   ]
  },
  {
   "cell_type": "markdown",
   "id": "acknowledged-active",
   "metadata": {},
   "source": [
    "## Add Deployment meta information\n",
    "\n",
    "Two methods are available (if comming from python2 world - ordereddict was important... in py38 a dictionary is inherently ordered)"
   ]
  },
  {
   "cell_type": "code",
   "execution_count": 18,
   "id": "freelance-fairy",
   "metadata": {},
   "outputs": [],
   "source": [
    "#just a dictionary of dictionaries - simple\n",
    "with open(mooring_meta_file) as file:\n",
    "    mooring_config = yaml.full_load(file)\n"
   ]
  },
  {
   "cell_type": "code",
   "execution_count": 19,
   "id": "proper-ghana",
   "metadata": {},
   "outputs": [],
   "source": [
    "#Generates an ordereddict but prints better for summary\n",
    "#likely to be depricated as an ordered dict may not be useful and drops a dependency if its EOL\n",
    "mooring_config_v2 = load_config.load_config(mooring_meta_file)"
   ]
  },
  {
   "cell_type": "code",
   "execution_count": 20,
   "id": "israeli-begin",
   "metadata": {},
   "outputs": [
    {
     "data": {
      "text/plain": [
       "{'InstType': 'Eco-Fluorometer FLSB',\n",
       " 'SerialNo': '1796',\n",
       " 'DesignedDepth': 45.0,\n",
       " 'ActualDepth': 43.0,\n",
       " 'PreDeploymentNotes': '',\n",
       " 'PostDeploymentNotes': '',\n",
       " 'Deployed': 'y',\n",
       " 'Recovered': 'y'}"
      ]
     },
     "execution_count": 20,
     "metadata": {},
     "output_type": "execute_result"
    }
   ],
   "source": [
    "mooring_config['Instrumentation'][instrument]"
   ]
  },
  {
   "cell_type": "markdown",
   "id": "mysterious-cornwall",
   "metadata": {},
   "source": [
    "## Add Instrument meta information\n",
    "\n",
    "Time, depth, lat, lon should be added regardless (always our coordinates) but for a mooring site its going to be a (1,1,1,t) dataset\n",
    "The variables of interest should be read from the data file and matched to a key for naming.  That key is in the inst_config file seen below and should represent common conversion names in the raw data"
   ]
  },
  {
   "cell_type": "code",
   "execution_count": 21,
   "id": "checked-raise",
   "metadata": {
    "tags": []
   },
   "outputs": [
    {
     "data": {
      "text/plain": [
       "{'time': {'epic_key': 'TIM_601',\n",
       "  'name': 'time',\n",
       "  'generic_name': 'time',\n",
       "  'standard_name': 'time',\n",
       "  'long_name': 'date and time since reference time'},\n",
       " 'depth': {'epic_key': 'D_3',\n",
       "  'generic_name': 'depth',\n",
       "  'units': 'meter',\n",
       "  'long_name': 'depth below surface (meters)',\n",
       "  'standard_name': 'depth',\n",
       "  'positive': 'down'},\n",
       " 'latitude': {'epic_key': 'LON_501',\n",
       "  'name': 'latitude',\n",
       "  'generic_name': 'latitude',\n",
       "  'units': 'degrees_north',\n",
       "  'long_name': 'latitude',\n",
       "  'standard_name': 'latitude'},\n",
       " 'longitude': {'epic_key': 'LAT_500',\n",
       "  'name': 'longitude',\n",
       "  'generic_name': 'longitude',\n",
       "  'units': 'degrees_east',\n",
       "  'long_name': 'longitude',\n",
       "  'standard_name': 'longitude'},\n",
       " 'timeseries_id': {'cf_role': 'timeseries_id',\n",
       "  'long_name': 'timeseries id',\n",
       "  'standard_name': ''},\n",
       " 'fluor_counts': {'epic_key': 'fluor_3031',\n",
       "  'generic_name': 'fluor_counts',\n",
       "  'long_name': 'Digital Counts from fluorometer',\n",
       "  'standard_name': 'fluorometer_digital_counts',\n",
       "  'units': 'counts'},\n",
       " 'chlor_fluorescence': {'epic_key': 'Fch_906',\n",
       "  'generic_name': 'chlor_fluorescence',\n",
       "  'long_name': 'Mass Concentration of chlorophyll from chlorophyll fluorescence',\n",
       "  'standard_name': 'mass_concentration_of_chlorophyll_in_sea_water',\n",
       "  'units': 'ugrams/l'},\n",
       " 'turbidity': {'epic_key': 'Trb_980',\n",
       "  'fortran': 'f10.2',\n",
       "  'generic_name': 'turbidity',\n",
       "  'longname': 'Turbidity (NTU)',\n",
       "  'long_name': 'turbidity in nephelometric turbidity units',\n",
       "  'standard_name': 'sea_water_turbidity',\n",
       "  'units': 'NTU'},\n",
       " 'cdom': {'epic_key': 'CDOM_2980',\n",
       "  'generic_name': 'cdom',\n",
       "  'long_name': 'concentration of CDOM in ppb',\n",
       "  'standard_name': 'concentration_of_colored_dissolved_organic_matter_in_sea_water',\n",
       "  'units': 'ppb'}}"
      ]
     },
     "execution_count": 21,
     "metadata": {},
     "output_type": "execute_result"
    }
   ],
   "source": [
    "with open(inst_meta_file) as file:\n",
    "    inst_config = yaml.full_load(file)\n",
    "inst_config"
   ]
  },
  {
   "cell_type": "code",
   "execution_count": 22,
   "id": "varied-popularity",
   "metadata": {},
   "outputs": [
    {
     "data": {
      "text/plain": [
       "<EcoFOCIpy.io.ncCFsave.EcoFOCI_CFnc at 0x16a7adca0>"
      ]
     },
     "execution_count": 22,
     "metadata": {},
     "output_type": "execute_result"
    }
   ],
   "source": [
    "# Add meta data and prelim processing based on meta data\n",
    "# Convert to xarray and add meta information - save as CF netcdf file\n",
    "# pass -> data, instmeta, depmeta\n",
    "ecoflsb_data_nc = ncCFsave.EcoFOCI_CFnc(df=ecoflsb_data, \n",
    "                                instrument_yaml=inst_config, \n",
    "                                operation_yaml=mooring_config, \n",
    "                                operation_type='mooring',\n",
    "                                instrument_id=instrument, \n",
    "                                inst_shortname=inst_shortname)\n",
    "ecoflsb_data_nc"
   ]
  },
  {
   "cell_type": "markdown",
   "id": "asian-chambers",
   "metadata": {},
   "source": [
    "At this point, you could save your file with the `.xarray2netcdf_save()` method and have a functioning dataset.... but it would be very simple with no additional qc, meta-data, or tuned parameters for optimizing software like ferret or erddap."
   ]
  },
  {
   "cell_type": "code",
   "execution_count": 23,
   "id": "practical-pennsylvania",
   "metadata": {},
   "outputs": [],
   "source": [
    "# expand the dimensions and coordinate variables\n",
    "# renames them appropriatley and prepares them for meta-filled values\n",
    "ecoflsb_data_nc.expand_dimensions()"
   ]
  },
  {
   "cell_type": "code",
   "execution_count": 24,
   "id": "floral-operations",
   "metadata": {},
   "outputs": [],
   "source": [
    "ecoflsb_data_nc.variable_meta_data(variable_keys=list(ecoflsb_data.columns.values),drop_missing=True)\n",
    "ecoflsb_data_nc.temporal_geospatioal_meta_data()\n",
    "#adding dimension meta needs to come after updating the dimension values... BUG?\n",
    "ecoflsb_data_nc.dimension_meta_data(variable_keys=['depth','latitude','longitude'])"
   ]
  },
  {
   "cell_type": "markdown",
   "id": "seventh-product",
   "metadata": {},
   "source": [
    "The following steps can happen in just about any order and are all meta-data driven.  Therefore, they are not required to have a functioning dataset, but they are required to have a well described dataset"
   ]
  },
  {
   "cell_type": "code",
   "execution_count": 25,
   "id": "auburn-diversity",
   "metadata": {},
   "outputs": [],
   "source": [
    "#add global attributes\n",
    "ecoflsb_data_nc.deployment_meta_add()\n",
    "ecoflsb_data_nc.get_xdf()\n",
    "\n",
    "#add instituitonal global attributes\n",
    "ecoflsb_data_nc.institution_meta_add()\n",
    "\n",
    "#add instrument global attributes\n",
    "ecoflsb_data_nc.instrument_meta_data()\n",
    "\n",
    "#add creation date/time - provenance data\n",
    "ecoflsb_data_nc.provinance_meta_add()\n",
    "\n",
    "#provide intial qc status field\n",
    "ecoflsb_data_nc.qc_status(qc_status='unknown')\n"
   ]
  },
  {
   "cell_type": "code",
   "execution_count": 26,
   "id": "92e0a75c-b0fa-4567-b8a9-77c5f1131f44",
   "metadata": {},
   "outputs": [
    {
     "ename": "AttributeError",
     "evalue": "'Dataset' object has no attribute 'chlor_fluorescence'",
     "output_type": "error",
     "traceback": [
      "\u001b[31m---------------------------------------------------------------------------\u001b[39m",
      "\u001b[31mAttributeError\u001b[39m                            Traceback (most recent call last)",
      "\u001b[36mCell\u001b[39m\u001b[36m \u001b[39m\u001b[32mIn[26]\u001b[39m\u001b[32m, line 11\u001b[39m\n\u001b[32m      8\u001b[39m \u001b[38;5;28;01mimport\u001b[39;00m\u001b[38;5;250m \u001b[39m\u001b[34;01mmatplotlib\u001b[39;00m\u001b[34;01m.\u001b[39;00m\u001b[34;01mticker\u001b[39;00m\u001b[38;5;250m \u001b[39m\u001b[38;5;28;01mas\u001b[39;00m\u001b[38;5;250m \u001b[39m\u001b[34;01mticker\u001b[39;00m\n\u001b[32m     10\u001b[39m fig, ax = plt.subplots(\u001b[32m1\u001b[39m,figsize=(\u001b[32m24\u001b[39m, \u001b[32m4\u001b[39m),sharex=\u001b[38;5;28;01mTrue\u001b[39;00m)\n\u001b[32m---> \u001b[39m\u001b[32m11\u001b[39m \u001b[43mecoflsb_data_nc\u001b[49m\u001b[43m.\u001b[49m\u001b[43mautotrim_time\u001b[49m\u001b[43m(\u001b[49m\u001b[43m)\u001b[49m\u001b[43m.\u001b[49m\u001b[43mchlor_fluorescence\u001b[49m.plot(ax=ax,color=\u001b[33m'\u001b[39m\u001b[33mg\u001b[39m\u001b[33m'\u001b[39m)\n\u001b[32m     13\u001b[39m \u001b[38;5;66;03m# xfmt = mdates.DateFormatter('%d-%b')\u001b[39;00m\n\u001b[32m     14\u001b[39m ax.xaxis.set_major_locator(DayLocator(bymonthday=\u001b[32m1\u001b[39m))\n",
      "\u001b[36mFile \u001b[39m\u001b[32m~/mambaforge/envs/p312/lib/python3.12/site-packages/xarray/core/common.py:306\u001b[39m, in \u001b[36mAttrAccessMixin.__getattr__\u001b[39m\u001b[34m(self, name)\u001b[39m\n\u001b[32m    304\u001b[39m         \u001b[38;5;28;01mwith\u001b[39;00m suppress(\u001b[38;5;167;01mKeyError\u001b[39;00m):\n\u001b[32m    305\u001b[39m             \u001b[38;5;28;01mreturn\u001b[39;00m source[name]\n\u001b[32m--> \u001b[39m\u001b[32m306\u001b[39m \u001b[38;5;28;01mraise\u001b[39;00m \u001b[38;5;167;01mAttributeError\u001b[39;00m(\n\u001b[32m    307\u001b[39m     \u001b[33mf\u001b[39m\u001b[33m\"\u001b[39m\u001b[38;5;132;01m{\u001b[39;00m\u001b[38;5;28mtype\u001b[39m(\u001b[38;5;28mself\u001b[39m).\u001b[34m__name__\u001b[39m\u001b[38;5;132;01m!r}\u001b[39;00m\u001b[33m object has no attribute \u001b[39m\u001b[38;5;132;01m{\u001b[39;00mname\u001b[38;5;132;01m!r}\u001b[39;00m\u001b[33m\"\u001b[39m\n\u001b[32m    308\u001b[39m )\n",
      "\u001b[31mAttributeError\u001b[39m: 'Dataset' object has no attribute 'chlor_fluorescence'"
     ]
    },
    {
     "data": {
      "image/png": "[encoded data removed]",
      "text/plain": [
       "<Figure size 2400x400 with 1 Axes>"
      ]
     },
     "metadata": {},
     "output_type": "display_data"
    }
   ],
   "source": [
    "#wrap the plot in image settings for visual appeal\n",
    "# may be able to make this cleaner or just a preset\n",
    "%run '../../../settings/mpl_plot_settings.py'\n",
    "\n",
    "%matplotlib inline\n",
    "import matplotlib.dates as mdates\n",
    "from matplotlib.dates import YearLocator, WeekdayLocator, MonthLocator, DayLocator, HourLocator, DateFormatter\n",
    "import matplotlib.ticker as ticker\n",
    "\n",
    "fig, ax = plt.subplots(1,figsize=(24, 4),sharex=True)\n",
    "ecoflsb_data_nc.autotrim_time().chlor_fluorescence.plot(ax=ax,color='g')\n",
    "\n",
    "# xfmt = mdates.DateFormatter('%d-%b')\n",
    "ax.xaxis.set_major_locator(DayLocator(bymonthday=1))\n",
    "ax.xaxis.set_minor_locator(DayLocator(bymonthday=15))\n",
    "ax.xaxis.set_minor_formatter(DateFormatter('%b %Y'))\n",
    "ax.xaxis.set_major_formatter(DateFormatter(''))\n",
    "ax.xaxis.set_tick_params(which='major', pad=3)\n",
    "ax.xaxis.set_tick_params(which='minor', pad=5)"
   ]
  },
  {
   "cell_type": "markdown",
   "id": "sustained-hughes",
   "metadata": {},
   "source": [
    "## Save CF Netcdf files\n",
    "\n",
    "Currently stick to netcdf3 classic... but migrating to netcdf4 (default) may be no problems for most modern purposes.  Its easy enough to pass the `format` kwargs through to the netcdf api of xarray."
   ]
  },
  {
   "cell_type": "code",
   "execution_count": null,
   "id": "modular-volunteer",
   "metadata": {},
   "outputs": [],
   "source": [
    "# combine trim (not mandatory) and filename together (saves to test.nc without name)\n",
    "\n",
    "depth = str(int(mooring_config['Instrumentation'][instrument]['ActualDepth'])).zfill(4)\n",
    "# mooring_yaml['Instrumentation'][self.instrument_id]['DesignedDepth'])).zfill(4) #<-- alternative\n",
    "filename = \"\".join(mooring_config['MooringID'].split('-')).lower()+'_'+inst_shortname+'_'+depth+'m.nc'\n",
    "ecoflsb_data_nc.xarray2netcdf_save(xdf = ecoflsb_data_nc.autotrim_time(),\n",
    "                           filename=filename,format=\"NETCDF3_CLASSIC\")\n",
    "\n",
    "# don't trim the data and pass your own filename\n",
    "# ecoflsb_data_nc.xarray2netcdf_save(xdf = ecoflsb_data_nc.get_xdf(),\n",
    "#                            filename=filename,format=\"NETCDF4_CLASSIC\")"
   ]
  },
  {
   "cell_type": "code",
   "execution_count": null,
   "id": "2d6ce090-6f3f-47c3-98d8-be3aa63824d5",
   "metadata": {},
   "outputs": [],
   "source": [
    "#csvoutput if necessary\n",
    "(ecoflsb_data_nc.get_xdf().to_dataframe()).to_csv(filename.replace('nc','csv'))"
   ]
  },
  {
   "cell_type": "code",
   "execution_count": null,
   "id": "unlike-breathing",
   "metadata": {},
   "outputs": [],
   "source": [
    "ecoflsb_data_nc.get_xdf()"
   ]
  },
  {
   "cell_type": "markdown",
   "id": "individual-nature",
   "metadata": {},
   "source": [
    "## Next Steps\n",
    "\n",
    "QC of data (plot parameters with other instruments)\n",
    "- be sure to updated the qc_status and the history"
   ]
  },
  {
   "cell_type": "markdown",
   "id": "e45f804c-6ed2-486d-b833-a6d0fdf30e39",
   "metadata": {},
   "source": [
    "### Compare against CTD's"
   ]
  },
  {
   "cell_type": "code",
   "execution_count": null,
   "id": "0c6fc40e-8c3d-4343-a473-c3b3d83863b9",
   "metadata": {},
   "outputs": [],
   "source": [
    "import matplotlib.pyplot as plt\n",
    "import pandas as pd\n",
    "import EcoFOCIpy.io.erddap as erddap\n",
    "import datetime"
   ]
  },
  {
   "cell_type": "code",
   "execution_count": null,
   "id": "8b19985c-41aa-46d3-98bf-5a9258841b0f",
   "metadata": {},
   "outputs": [],
   "source": [
    "dep_details = {'url':\"http://ecofoci-field.pmel.noaa.gov:8082/erddap\",\n",
    "               'cruiseid':'dy2504',\n",
    "               'qclevel':'preliminary',\n",
    "               'concastno':'022'\n",
    "              }\n",
    "\n",
    "rec_details = {'url':\"http://ecofoci-field.pmel.noaa.gov:8082/erddap\",\n",
    "               'cruiseid':'dy2504',\n",
    "               'qclevel':'preliminary',\n",
    "               'concastno':'000'\n",
    "              }\n",
    "\n",
    "depcast = erddap.erddapCTDretrieve(**dep_details)\n",
    "# reccast = erddap.erddapCTDretrieve(**rec_details)"
   ]
  },
  {
   "cell_type": "markdown",
   "id": "44c5b1a0-a046-4281-aa14-36d97db04eba",
   "metadata": {},
   "source": [
    "some variable names switch between preliminary and final... this will eventually be resolved"
   ]
  },
  {
   "cell_type": "code",
   "execution_count": null,
   "id": "705efb1f-a8be-4bb1-b8e6-f0785eec2f00",
   "metadata": {},
   "outputs": [],
   "source": [
    "#plot ctd values with a small circular radius and zoom in on near their equivalent mooring time span, we are looking for visual discrepencies\n",
    "#cycle through each depth and plot respective plot\n",
    "depth = int(mooring_config['Instrumentation'][instrument]['ActualDepth'])\n",
    "\n",
    "fig, ax = plt.subplots(1,figsize=(16, 2))\n",
    "ecoflsb_data_nc.autotrim_time().chlor_fluorescence.plot(x=\"time\",hue=\"depth\",ax=ax, add_legend=False);\n",
    "ax.plot(pd.to_datetime(depcast[depcast['pressure'] == depth]['time (UTC)']),\n",
    "        depcast[depcast['pressure'] == depth]['Fch_906 (micrograms (ug) / l)'],\n",
    "        'o',markersize=20,markerfacecolor='none',markeredgecolor='red')\n",
    "ax.plot(pd.to_datetime(depcast[depcast['pressure'] == depth]['time (UTC)']),\n",
    "        depcast[depcast['pressure'] == depth]['Fch_906 (micrograms (ug) / l)'],\n",
    "        '+',markersize=10,markerfacecolor='none',markeredgecolor='red')\n",
    "# ax.plot(pd.to_datetime(reccast[reccast['pressure'] == depth]['time (UTC)']),\n",
    "#         reccast[reccast['pressure'] == depth]['Fch_906 (ugrams/l)'],\n",
    "#         'o',markersize=20,markerfacecolor='none',markeredgecolor='red')\n",
    "# ax.plot(pd.to_datetime(reccast[reccast['pressure'] == depth]['time (UTC)']),\n",
    "#         reccast[reccast['pressure'] == depth]['Fch_906 (ugrams/l)'],\n",
    "#         '+',markersize=10,markerfacecolor='none',markeredgecolor='red')\n",
    "\n",
    "fig.savefig(f\"images/{filename.replace('nc','_chlorCal.png')}\")"
   ]
  },
  {
   "cell_type": "code",
   "execution_count": null,
   "id": "947c8245-3ff6-43c9-8aa3-be73b5746ce7",
   "metadata": {},
   "outputs": [],
   "source": [
    "#print collocated cast comparison\n",
    "mooring = ecoflsb_data_nc.autotrim_time().sel(time=datetime.datetime.strptime(depcast['time (UTC)'].unique()[0],\n",
    "                                                                 '%Y-%m-%dT%H:%M:%SZ'),\n",
    "                                 method='nearest')\n",
    "print('Deployment')\n",
    "print('ChlorF:',mooring.chlor_fluorescence.values[0][0],depcast[depcast['pressure'] == depth]['Fch_906 (micrograms (ug) / l)'].values)\n",
    "\n",
    "# mooring = ecoflsb_data_nc.autotrim_time().sel(time=datetime.datetime.strptime(reccast['time (UTC)'].unique()[0],\n",
    "#                                                                  '%Y-%m-%dT%H:%M:%SZ'),\n",
    "#                                  method='nearest')\n",
    "# print('Recovery')\n",
    "# print('ChlorF:',mooring.chlor_fluorescence.values[0][0],reccast[reccast['pressure'] == depth]['Fch_906 (ugrams/l)'].values)\n"
   ]
  },
  {
   "cell_type": "markdown",
   "id": "5d75236b-ad10-4e70-ac98-222626cc7bb1",
   "metadata": {},
   "source": [
    "### QC Notes from plots\n",
    "\n",
    "- inital field check points look good"
   ]
  },
  {
   "cell_type": "code",
   "execution_count": null,
   "id": "5a23707c-a15d-41b2-910b-e61b17ea500c",
   "metadata": {},
   "outputs": [],
   "source": []
  }
 ],
 "metadata": {
  "kernelspec": {
   "display_name": "Python [conda env:p312]",
   "language": "python",
   "name": "conda-env-p312-py"
  },
  "language_info": {
   "codemirror_mode": {
    "name": "ipython",
    "version": 3
   },
   "file_extension": ".py",
   "mimetype": "text/x-python",
   "name": "python",
   "nbconvert_exporter": "python",
   "pygments_lexer": "ipython3",
   "version": "3.12.10"
  }
 },
 "nbformat": 4,
 "nbformat_minor": 5
}
