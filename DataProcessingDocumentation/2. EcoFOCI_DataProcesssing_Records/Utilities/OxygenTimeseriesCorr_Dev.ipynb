{
 "cells": [
  {
   "cell_type": "markdown",
   "id": "c2a929de-8a4a-4d7c-8634-01ac1f03f766",
   "metadata": {
    "editable": true,
    "slideshow": {
     "slide_type": ""
    },
    "tags": []
   },
   "source": [
    "# Development Notebook for applying Oxygen Corrections to timeseries data\n",
    "\n",
    "- Minimally correct for Sal/Press and convert to consistent units of uM/kg\n",
    "  + Also Despike or remove known bad/failing data\n",
    "- Find available comparisons (in order of percieved desireability):\n",
    "  + CTD w/o winkler correction (not super helpful - just a sanity check)\n",
    "  + Lab in air check + NARR/UW Baro\n",
    "  + Back Deck in air check (from data record) + NARR Baro\n",
    "  + CTD with winkler correction\n",
    "  + Direct Winkler Comparison\n",
    "- Evaluate any and all scale corrections (pre/post cruise)\n",
    "\n",
    "Save two oxygens: Sal/Press Corr only, Best Correction (indicate method somehow?)"
   ]
  },
  {
   "cell_type": "code",
   "execution_count": 165,
   "id": "45a3a917-1a32-43e8-a91b-4bf48fb1bc2f",
   "metadata": {
    "editable": true,
    "slideshow": {
     "slide_type": ""
    },
    "tags": []
   },
   "outputs": [],
   "source": [
    "import pandas as pd\n",
    "import xarray as xr\n",
    "import datetime\n",
    "import yaml\n",
    "\n",
    "import EcoFOCIpy.io.erddap as erddap"
   ]
  },
  {
   "cell_type": "code",
   "execution_count": 166,
   "id": "05207b98-9176-4149-90dc-d6b4080f680e",
   "metadata": {
    "editable": true,
    "slideshow": {
     "slide_type": ""
    },
    "tags": []
   },
   "outputs": [],
   "source": [
    "%matplotlib inline\n",
    "import matplotlib.pyplot as plt\n",
    "import matplotlib.dates as mdates\n",
    "from matplotlib.dates import YearLocator, WeekdayLocator, MonthLocator, DayLocator, HourLocator, DateFormatter\n",
    "import matplotlib.ticker as ticker"
   ]
  },
  {
   "cell_type": "code",
   "execution_count": 167,
   "id": "1b521091-f724-45e5-987f-f5c223a40da8",
   "metadata": {
    "editable": true,
    "slideshow": {
     "slide_type": ""
    },
    "tags": []
   },
   "outputs": [
    {
     "data": {
      "text/plain": [
       "{'DeploymentCruise': 'DY2410',\n",
       " 'DeploymentLatitude': '56 51.6123 N',\n",
       " 'DeploymentLongitude': '164 03.3174 W',\n",
       " 'DeploymentDateTimeGMT': datetime.datetime(2024, 9, 8, 23, 0),\n",
       " 'DeploymentDepth': 72.8}"
      ]
     },
     "execution_count": 167,
     "metadata": {},
     "output_type": "execute_result"
    }
   ],
   "source": [
    "user_data_dir = '/Users/bell/ecoraid/2024/Moorings/24bs2c/'\n",
    "mooring_meta_file = user_data_dir+'logs/24BS-2C.yaml'\n",
    "dep_depth_m = 23\n",
    "\n",
    "#just a dictionary of dictionaries - simple\n",
    "with open(mooring_meta_file) as file:\n",
    "    mooring_config = yaml.full_load(file)\n",
    "mooring_config['Deployment']"
   ]
  },
  {
   "cell_type": "code",
   "execution_count": 168,
   "id": "93b1c47d-2ad4-4046-8d29-eb48ce265e3d",
   "metadata": {
    "editable": true,
    "slideshow": {
     "slide_type": ""
    },
    "tags": []
   },
   "outputs": [
    {
     "data": {
      "text/plain": [
       "{'RecoveryCruise': 'DY2504',\n",
       " 'RecoveryLatitude': '56 51.0 N',\n",
       " 'RecoveryLongitude': '161 3.3 W',\n",
       " 'RecoveryDateTimeGMT': datetime.datetime(2025, 4, 29, 16, 26),\n",
       " 'RecoveryDepth': 72.8}"
      ]
     },
     "execution_count": 168,
     "metadata": {},
     "output_type": "execute_result"
    }
   ],
   "source": [
    "mooring_config['Recovery']"
   ]
  },
  {
   "cell_type": "markdown",
   "id": "3661c43e-6a83-4787-97bc-415e6073789e",
   "metadata": {
    "editable": true,
    "slideshow": {
     "slide_type": ""
    },
    "tags": []
   },
   "source": [
    "### load timeseries\n",
    "\n",
    "- if preliminary is used, then oxygen not been corrected to winklers or Sal/Depth Corrected and will be in uM but will have deck data"
   ]
  },
  {
   "cell_type": "code",
   "execution_count": 169,
   "id": "7b2c5e8e-2cf6-4706-9d95-6a8ccd54a995",
   "metadata": {},
   "outputs": [],
   "source": [
    "url = \"http://akutan.pmel.noaa.gov:8082/erddap\"\n",
    "sdf = erddap.erddapMooredInstretrieve(url=url,mooringid='24bs2c',qclevel='preliminary',instrid='24bs2c_s16_0023m')"
   ]
  },
  {
   "cell_type": "markdown",
   "id": "edd990cf-7cf1-4adc-a0e3-272e1be4289a",
   "metadata": {},
   "source": [
    "### load/identify collocated cruise casts\n",
    "\n",
    "- preliminary CTD data does not have winkler corrections"
   ]
  },
  {
   "cell_type": "code",
   "execution_count": 170,
   "id": "a0f9e3d5-7f63-4d32-9e44-65dd5e1ba3e5",
   "metadata": {
    "editable": true,
    "slideshow": {
     "slide_type": ""
    },
    "tags": []
   },
   "outputs": [],
   "source": [
    "dep_details = {'url':\"http://ecofoci-field.pmel.noaa.gov:8082/erddap\",\n",
    "               'cruiseid':'dy2410',\n",
    "               'qclevel':'preliminary',\n",
    "               'concastno':'054' #008, 009\n",
    "              }\n",
    "\n",
    "rec_details = {'url':\"http://ecofoci-field.pmel.noaa.gov:8082/erddap\",\n",
    "               'cruiseid':'dy2504',\n",
    "               'qclevel':'preliminary',\n",
    "               'concastno':'021'\n",
    "              }\n",
    "               \n",
    "depcast = erddap.erddapCTDretrieve(**dep_details)\n",
    "reccast = erddap.erddapCTDretrieve(**rec_details)"
   ]
  },
  {
   "cell_type": "code",
   "execution_count": 171,
   "id": "021011eb-ad46-40bd-bcc6-2a2ff02ae0a2",
   "metadata": {},
   "outputs": [
    {
     "data": {
      "text/html": [
       "<div>\n",
       "<style scoped>\n",
       "    .dataframe tbody tr th:only-of-type {\n",
       "        vertical-align: middle;\n",
       "    }\n",
       "\n",
       "    .dataframe tbody tr th {\n",
       "        vertical-align: top;\n",
       "    }\n",
       "\n",
       "    .dataframe thead th {\n",
       "        text-align: right;\n",
       "    }\n",
       "</style>\n",
       "<table border=\"1\" class=\"dataframe\">\n",
       "  <thead>\n",
       "    <tr style=\"text-align: right;\">\n",
       "      <th></th>\n",
       "      <th>pressure</th>\n",
       "      <th>O_65 (um/kg)</th>\n",
       "      <th>CTDOXY_4221 (um/kg)</th>\n",
       "      <th>OST_62 (%)</th>\n",
       "      <th>CTDOST_4220 (%)</th>\n",
       "    </tr>\n",
       "  </thead>\n",
       "  <tbody>\n",
       "    <tr>\n",
       "      <th>6105</th>\n",
       "      <td>23.0</td>\n",
       "      <td>290.126</td>\n",
       "      <td>273.465</td>\n",
       "      <td>101.216</td>\n",
       "      <td>95.418</td>\n",
       "    </tr>\n",
       "  </tbody>\n",
       "</table>\n",
       "</div>"
      ],
      "text/plain": [
       "      pressure  O_65 (um/kg)  CTDOXY_4221 (um/kg)  OST_62 (%)  CTDOST_4220 (%)\n",
       "6105      23.0       290.126              273.465     101.216           95.418"
      ]
     },
     "execution_count": 171,
     "metadata": {},
     "output_type": "execute_result"
    }
   ],
   "source": [
    "dcast_closest = depcast.iloc[(depcast['pressure']-dep_depth_m).abs().argsort()[:1]]\n",
    "\n",
    "dcast_closest[['pressure', 'O_65 (um/kg)','CTDOXY_4221 (um/kg)','OST_62 (%)','CTDOST_4220 (%)']]"
   ]
  },
  {
   "cell_type": "markdown",
   "id": "f50158aa-b795-4cb0-87f8-a0625aa4de91",
   "metadata": {},
   "source": [
    "### is there a winkler within +/-2m of deployment depth"
   ]
  },
  {
   "cell_type": "code",
   "execution_count": 172,
   "id": "fb9128a0-521c-4631-bebf-073bc9df9698",
   "metadata": {},
   "outputs": [],
   "source": [
    "dep_details = {'url':\"http://ecofoci-field.pmel.noaa.gov:8080/erddap\",\n",
    "               'cruiseid':'dy2410',\n",
    "               'qclevel':'final_oxy',\n",
    "               'concastno':'054'\n",
    "              }\n",
    "\n",
    "rec_details = {'url':\"http://ecofoci-field.pmel.noaa.gov:8080/erddap\",\n",
    "               'cruiseid':'dy2504',\n",
    "               'qclevel':'final_oxy',\n",
    "               'concastno':'021'\n",
    "              }\n",
    "               \n",
    "oxy_dep = erddap.erddapCTDretrieve(**dep_details)\n",
    "# oxy_rec = erddap.erddapCTDretrieve(**rec_details)"
   ]
  },
  {
   "cell_type": "code",
   "execution_count": 185,
   "id": "22fb4d86-f5aa-4e76-a805-1d1e6316b985",
   "metadata": {},
   "outputs": [
    {
     "data": {
      "text/html": [
       "<div>\n",
       "<style scoped>\n",
       "    .dataframe tbody tr th:only-of-type {\n",
       "        vertical-align: middle;\n",
       "    }\n",
       "\n",
       "    .dataframe tbody tr th {\n",
       "        vertical-align: top;\n",
       "    }\n",
       "\n",
       "    .dataframe thead th {\n",
       "        text-align: right;\n",
       "    }\n",
       "</style>\n",
       "<table border=\"1\" class=\"dataframe\">\n",
       "  <thead>\n",
       "    <tr style=\"text-align: right;\">\n",
       "      <th></th>\n",
       "      <th>time (UTC)</th>\n",
       "      <th>pressure</th>\n",
       "      <th>latitude (degrees_north)</th>\n",
       "      <th>longitude (degrees_east)</th>\n",
       "      <th>bottle_oxygen (uM l-1)</th>\n",
       "      <th>BTLID</th>\n",
       "      <th>profile_id</th>\n",
       "      <th>Water_Depth (m)</th>\n",
       "      <th>Station_Name</th>\n",
       "    </tr>\n",
       "  </thead>\n",
       "  <tbody>\n",
       "    <tr>\n",
       "      <th>74</th>\n",
       "      <td>2024-09-14T06:36:00Z</td>\n",
       "      <td>68.818</td>\n",
       "      <td>56.858665</td>\n",
       "      <td>-164.04083</td>\n",
       "      <td>235.89470</td>\n",
       "      <td>2.0</td>\n",
       "      <td>dy2410c054_oxy</td>\n",
       "      <td>72.0</td>\n",
       "      <td>M2</td>\n",
       "    </tr>\n",
       "    <tr>\n",
       "      <th>75</th>\n",
       "      <td>2024-09-14T06:36:00Z</td>\n",
       "      <td>68.818</td>\n",
       "      <td>56.858665</td>\n",
       "      <td>-164.04083</td>\n",
       "      <td>235.82133</td>\n",
       "      <td>2.0</td>\n",
       "      <td>dy2410c054_oxy</td>\n",
       "      <td>72.0</td>\n",
       "      <td>M2</td>\n",
       "    </tr>\n",
       "    <tr>\n",
       "      <th>76</th>\n",
       "      <td>2024-09-14T06:36:00Z</td>\n",
       "      <td>68.818</td>\n",
       "      <td>56.858665</td>\n",
       "      <td>-164.04083</td>\n",
       "      <td>235.60362</td>\n",
       "      <td>2.0</td>\n",
       "      <td>dy2410c054_oxy</td>\n",
       "      <td>72.0</td>\n",
       "      <td>M2</td>\n",
       "    </tr>\n",
       "    <tr>\n",
       "      <th>77</th>\n",
       "      <td>2024-09-14T06:36:00Z</td>\n",
       "      <td>51.487</td>\n",
       "      <td>56.858665</td>\n",
       "      <td>-164.04083</td>\n",
       "      <td>235.33772</td>\n",
       "      <td>3.0</td>\n",
       "      <td>dy2410c054_oxy</td>\n",
       "      <td>72.0</td>\n",
       "      <td>M2</td>\n",
       "    </tr>\n",
       "    <tr>\n",
       "      <th>78</th>\n",
       "      <td>2024-09-14T06:36:00Z</td>\n",
       "      <td>40.692</td>\n",
       "      <td>56.858665</td>\n",
       "      <td>-164.04083</td>\n",
       "      <td>235.04245</td>\n",
       "      <td>4.0</td>\n",
       "      <td>dy2410c054_oxy</td>\n",
       "      <td>72.0</td>\n",
       "      <td>M2</td>\n",
       "    </tr>\n",
       "    <tr>\n",
       "      <th>79</th>\n",
       "      <td>2024-09-14T06:36:00Z</td>\n",
       "      <td>21.453</td>\n",
       "      <td>56.858665</td>\n",
       "      <td>-164.04083</td>\n",
       "      <td>309.96613</td>\n",
       "      <td>7.0</td>\n",
       "      <td>dy2410c054_oxy</td>\n",
       "      <td>72.0</td>\n",
       "      <td>M2</td>\n",
       "    </tr>\n",
       "    <tr>\n",
       "      <th>80</th>\n",
       "      <td>2024-09-14T06:36:00Z</td>\n",
       "      <td>11.664</td>\n",
       "      <td>56.858665</td>\n",
       "      <td>-164.04083</td>\n",
       "      <td>309.08612</td>\n",
       "      <td>8.0</td>\n",
       "      <td>dy2410c054_oxy</td>\n",
       "      <td>72.0</td>\n",
       "      <td>M2</td>\n",
       "    </tr>\n",
       "    <tr>\n",
       "      <th>81</th>\n",
       "      <td>2024-09-14T06:36:00Z</td>\n",
       "      <td>5.595</td>\n",
       "      <td>56.858665</td>\n",
       "      <td>-164.04083</td>\n",
       "      <td>309.65915</td>\n",
       "      <td>10.0</td>\n",
       "      <td>dy2410c054_oxy</td>\n",
       "      <td>72.0</td>\n",
       "      <td>M2</td>\n",
       "    </tr>\n",
       "  </tbody>\n",
       "</table>\n",
       "</div>"
      ],
      "text/plain": [
       "              time (UTC)  pressure  latitude (degrees_north)  \\\n",
       "74  2024-09-14T06:36:00Z    68.818                 56.858665   \n",
       "75  2024-09-14T06:36:00Z    68.818                 56.858665   \n",
       "76  2024-09-14T06:36:00Z    68.818                 56.858665   \n",
       "77  2024-09-14T06:36:00Z    51.487                 56.858665   \n",
       "78  2024-09-14T06:36:00Z    40.692                 56.858665   \n",
       "79  2024-09-14T06:36:00Z    21.453                 56.858665   \n",
       "80  2024-09-14T06:36:00Z    11.664                 56.858665   \n",
       "81  2024-09-14T06:36:00Z     5.595                 56.858665   \n",
       "\n",
       "    longitude (degrees_east)  bottle_oxygen (uM l-1)  BTLID      profile_id  \\\n",
       "74                -164.04083               235.89470    2.0  dy2410c054_oxy   \n",
       "75                -164.04083               235.82133    2.0  dy2410c054_oxy   \n",
       "76                -164.04083               235.60362    2.0  dy2410c054_oxy   \n",
       "77                -164.04083               235.33772    3.0  dy2410c054_oxy   \n",
       "78                -164.04083               235.04245    4.0  dy2410c054_oxy   \n",
       "79                -164.04083               309.96613    7.0  dy2410c054_oxy   \n",
       "80                -164.04083               309.08612    8.0  dy2410c054_oxy   \n",
       "81                -164.04083               309.65915   10.0  dy2410c054_oxy   \n",
       "\n",
       "    Water_Depth (m) Station_Name  \n",
       "74             72.0           M2  \n",
       "75             72.0           M2  \n",
       "76             72.0           M2  \n",
       "77             72.0           M2  \n",
       "78             72.0           M2  \n",
       "79             72.0           M2  \n",
       "80             72.0           M2  \n",
       "81             72.0           M2  "
      ]
     },
     "execution_count": 185,
     "metadata": {},
     "output_type": "execute_result"
    }
   ],
   "source": [
    "oxy_dep"
   ]
  },
  {
   "cell_type": "code",
   "execution_count": 173,
   "id": "ed74694a-0bab-43d1-b579-773ef0b0911f",
   "metadata": {},
   "outputs": [
    {
     "data": {
      "text/html": [
       "<div>\n",
       "<style scoped>\n",
       "    .dataframe tbody tr th:only-of-type {\n",
       "        vertical-align: middle;\n",
       "    }\n",
       "\n",
       "    .dataframe tbody tr th {\n",
       "        vertical-align: top;\n",
       "    }\n",
       "\n",
       "    .dataframe thead th {\n",
       "        text-align: right;\n",
       "    }\n",
       "</style>\n",
       "<table border=\"1\" class=\"dataframe\">\n",
       "  <thead>\n",
       "    <tr style=\"text-align: right;\">\n",
       "      <th></th>\n",
       "      <th>pressure</th>\n",
       "      <th>bottle_oxygen (uM l-1)</th>\n",
       "    </tr>\n",
       "  </thead>\n",
       "  <tbody>\n",
       "    <tr>\n",
       "      <th>79</th>\n",
       "      <td>21.453</td>\n",
       "      <td>309.96613</td>\n",
       "    </tr>\n",
       "  </tbody>\n",
       "</table>\n",
       "</div>"
      ],
      "text/plain": [
       "    pressure  bottle_oxygen (uM l-1)\n",
       "79    21.453               309.96613"
      ]
     },
     "execution_count": 173,
     "metadata": {},
     "output_type": "execute_result"
    }
   ],
   "source": [
    "doxy_closest = oxy_dep.iloc[(oxy_dep['pressure']-dep_depth_m).abs().argsort()[:1]]\n",
    "\n",
    "doxy_closest[['pressure','bottle_oxygen (uM l-1)']]"
   ]
  },
  {
   "cell_type": "code",
   "execution_count": 174,
   "id": "6d8fb24c-909d-435f-b9aa-811348117129",
   "metadata": {},
   "outputs": [],
   "source": [
    "sdf.columns = [x.split()[0] for x in sdf.columns ]"
   ]
  },
  {
   "cell_type": "markdown",
   "id": "470a64e6-a5d3-4e91-9690-e8e2a9b7563a",
   "metadata": {
    "tags": []
   },
   "source": [
    "## Salinity and Depth corrections to Oxygen\n",
    "\n",
    "FOCI sets (or keeps) all aanderaa salinity sensors at 0-PSU (factory) for simplicity and consistency and applies the salinity correction after recovery, also, we tend to report in um/kg as opposed to um/l (or Molar) so do the unit conversion too. And finally, the actual measurement made is partial pressure/ percent saturation.  Report that as well (may need to calculate it)\n",
    "\n",
    "Salinity may not be reported on the same instrument (rcm vs sbe) so may need to massage the salinity correction"
   ]
  },
  {
   "cell_type": "code",
   "execution_count": 175,
   "id": "7b5530f3-4592-4037-b942-7097e8c531dc",
   "metadata": {
    "tags": []
   },
   "outputs": [],
   "source": [
    "from EcoFOCIpy.math import aandopt_oxy_corr as aand_oxy\n",
    "\n",
    "# if you just want to correct and move on - pass the trimmed data in e.g. : sbe16_wop_nc.autotrim_time().oxy_conc\n",
    "# if you want to evaluate deck info - pass the untrimmed data in e.g. : sbe16_wop_nc.get_xdf().oxy_conc\n",
    "\n",
    "#depth correction... usually small\n",
    "temp_oxycorr = aand_oxy.o2_dep_comp(oxygen_conc=sdf.oxygen_concentration,depth=dep_depth_m)\n",
    "#sal correction... big!\n",
    "temp_oxycorr = aand_oxy.o2_sal_comp(oxygen_conc=temp_oxycorr,\n",
    "                                    salinity=sdf.salinity,\n",
    "                                    temperature=sdf.temperature)\n",
    "\n",
    "#units adjustment... not so big\n",
    "temp_oxycorr_umkg = aand_oxy.o2_molar2umkg(oxygen_conc=temp_oxycorr,\n",
    "                                           salinity=sdf.salinity,\n",
    "                                           temperature=sdf.temperature,\n",
    "                                           pressure=dep_depth_m)\n",
    "\n",
    "#saturation calculation\n",
    "temp_oxysat = aand_oxy.o2_percent_sat(oxygen_conc=temp_oxycorr,\n",
    "                                           salinity=sdf.salinity,\n",
    "                                           temperature=sdf.temperature,\n",
    "                                           pressure=dep_depth_m)"
   ]
  },
  {
   "cell_type": "code",
   "execution_count": 176,
   "id": "e95e09d0-d17d-47f4-acf2-0eb1f2b50bdf",
   "metadata": {},
   "outputs": [],
   "source": [
    "sdf['temp_oxysat'] = temp_oxysat\n",
    "sdf['temp_oxycorr'] = temp_oxycorr"
   ]
  },
  {
   "cell_type": "code",
   "execution_count": 177,
   "id": "9d6d8284-c3a6-46c0-8eec-d071a22a5e71",
   "metadata": {
    "editable": true,
    "slideshow": {
     "slide_type": ""
    },
    "tags": []
   },
   "outputs": [],
   "source": [
    "tdf = sdf.set_index(pd.to_datetime(sdf.time))"
   ]
  },
  {
   "cell_type": "code",
   "execution_count": 178,
   "id": "118e9d14-8b0b-458c-9836-067a1181070c",
   "metadata": {},
   "outputs": [
    {
     "data": {
      "text/plain": [
       "<Axes: xlabel='time'>"
      ]
     },
     "execution_count": 178,
     "metadata": {},
     "output_type": "execute_result"
    },
    {
     "data": {
      "image/png": "[encoded data removed]",
      "text/plain": [
       "<Figure size 800x200 with 1 Axes>"
      ]
     },
     "metadata": {},
     "output_type": "display_data"
    }
   ],
   "source": [
    "tdf.loc[((mooring_config['Deployment']['DeploymentDateTimeGMT']-datetime.timedelta(seconds=86400)).strftime('%Y-%m-%d')):\n",
    "         (mooring_config['Deployment']['DeploymentDateTimeGMT'].strftime('%Y-%m-%d'))].temp_oxysat.plot(figsize=(8,2))"
   ]
  },
  {
   "cell_type": "code",
   "execution_count": 179,
   "id": "1d523b40-480c-4e26-b3cf-223553494546",
   "metadata": {},
   "outputs": [
    {
     "name": "stdout",
     "output_type": "stream",
     "text": [
      "Average %Sat in 24 hours leading to deployment\n"
     ]
    },
    {
     "data": {
      "text/plain": [
       "86.11917637203173"
      ]
     },
     "execution_count": 179,
     "metadata": {},
     "output_type": "execute_result"
    }
   ],
   "source": [
    "print(f'Average %Sat in 24 hours leading to deployment')\n",
    "tdf.loc[((mooring_config['Deployment']['DeploymentDateTimeGMT']-datetime.timedelta(seconds=86400)).strftime('%Y-%m-%d')):\n",
    "         (mooring_config['Deployment']['DeploymentDateTimeGMT'].strftime('%Y-%m-%d'))].temp_oxysat.mean()"
   ]
  },
  {
   "cell_type": "code",
   "execution_count": 180,
   "id": "be2355f2-6cb7-4ff8-bbe9-b90d010bc14a",
   "metadata": {},
   "outputs": [
    {
     "data": {
      "text/plain": [
       "<Axes: xlabel='time'>"
      ]
     },
     "execution_count": 180,
     "metadata": {},
     "output_type": "execute_result"
    },
    {
     "data": {
      "image/png": "[encoded data removed]",
      "text/plain": [
       "<Figure size 800x200 with 1 Axes>"
      ]
     },
     "metadata": {},
     "output_type": "display_data"
    }
   ],
   "source": [
    "tdf.loc[(mooring_config['Recovery']['RecoveryDateTimeGMT'].strftime('%Y-%m-%d')):\n",
    "        ((mooring_config['Recovery']['RecoveryDateTimeGMT']-datetime.timedelta(seconds=86400))\n",
    "         .strftime('%Y-%m-%d'))].temp_oxysat.plot(figsize=(8,2))"
   ]
  },
  {
   "cell_type": "code",
   "execution_count": 181,
   "id": "76dfd067-a1f9-44f8-96cb-30d2a37a1fc6",
   "metadata": {},
   "outputs": [
    {
     "name": "stdout",
     "output_type": "stream",
     "text": [
      "Average %Sat in 24 hours after recovery\n"
     ]
    },
    {
     "data": {
      "text/plain": [
       "nan"
      ]
     },
     "execution_count": 181,
     "metadata": {},
     "output_type": "execute_result"
    }
   ],
   "source": [
    "print(f'Average %Sat in 24 hours after recovery')\n",
    "tdf.loc[((mooring_config['Recovery']['RecoveryDateTimeGMT']-datetime.timedelta(seconds=86400)).strftime('%Y-%m-%d')):\n",
    "         (mooring_config['Recovery']['RecoveryDateTimeGMT'].strftime('%Y-%m-%d'))].temp_oxysat.mean()"
   ]
  },
  {
   "cell_type": "code",
   "execution_count": 182,
   "id": "063b6086-df8d-437f-b468-d4cb52937ed0",
   "metadata": {},
   "outputs": [
    {
     "data": {
      "text/plain": [
       "<Axes: xlabel='time'>"
      ]
     },
     "execution_count": 182,
     "metadata": {},
     "output_type": "execute_result"
    },
    {
     "data": {
      "image/png": "[encoded data removed]",
      "text/plain": [
       "<Figure size 640x480 with 1 Axes>"
      ]
     },
     "metadata": {},
     "output_type": "display_data"
    }
   ],
   "source": [
    "tdf.loc[doxy_closest['time (UTC)'].values[0].split('T')[0]]['temp_oxycorr'].plot()"
   ]
  },
  {
   "cell_type": "code",
   "execution_count": 183,
   "id": "43dafba8-1715-4545-ad23-9422bcbacaa5",
   "metadata": {},
   "outputs": [
    {
     "name": "stdout",
     "output_type": "stream",
     "text": [
      "Average %Conc on day of deployment/ctd 2024-09-14T06:36:00Z\n"
     ]
    },
    {
     "data": {
      "text/plain": [
       "282.7373884568161"
      ]
     },
     "execution_count": 183,
     "metadata": {},
     "output_type": "execute_result"
    }
   ],
   "source": [
    "print(f'Average %Conc on day of deployment/ctd {doxy_closest['time (UTC)'].values[0]}')\n",
    "tdf.loc[doxy_closest['time (UTC)'].values[0].split('T')[0]]['temp_oxycorr'].mean()"
   ]
  },
  {
   "cell_type": "code",
   "execution_count": 184,
   "id": "9f917fd0-3959-4e6d-bc6c-2bc2111040d8",
   "metadata": {},
   "outputs": [
    {
     "name": "stdout",
     "output_type": "stream",
     "text": [
      "Ratio of inst / winkler\n"
     ]
    },
    {
     "data": {
      "text/plain": [
       "79    0.912156\n",
       "Name: bottle_oxygen (uM l-1), dtype: float64"
      ]
     },
     "execution_count": 184,
     "metadata": {},
     "output_type": "execute_result"
    }
   ],
   "source": [
    "print(f'Ratio of inst / winkler')\n",
    "tdf.loc[doxy_closest['time (UTC)'].values[0].split('T')[0]]['temp_oxycorr'].mean() / doxy_closest['bottle_oxygen (uM l-1)']"
   ]
  },
  {
   "cell_type": "code",
   "execution_count": null,
   "id": "346aef71-425c-4ea2-bb19-53e39262fe5d",
   "metadata": {},
   "outputs": [],
   "source": []
  }
 ],
 "metadata": {
  "kernelspec": {
   "display_name": "Python [conda env:p312]",
   "language": "python",
   "name": "conda-env-p312-py"
  },
  "language_info": {
   "codemirror_mode": {
    "name": "ipython",
    "version": 3
   },
   "file_extension": ".py",
   "mimetype": "text/x-python",
   "name": "python",
   "nbconvert_exporter": "python",
   "pygments_lexer": "ipython3",
   "version": "3.12.10"
  }
 },
 "nbformat": 4,
 "nbformat_minor": 5
}
