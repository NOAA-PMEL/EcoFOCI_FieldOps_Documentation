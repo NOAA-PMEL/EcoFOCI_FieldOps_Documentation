{
 "cells": [
  {
   "cell_type": "markdown",
   "id": "d6e80ce0-a3e0-43ea-a079-068b0a409ece",
   "metadata": {},
   "source": [
    "# Read EPIC NetCDF file and convert to CF time\n",
    "- This just creates a netcdf file with one timeword instead of the epic two time word"
   ]
  },
  {
   "cell_type": "code",
   "execution_count": 1,
   "id": "1bbc8da2-de65-4188-9e93-a5902641e104",
   "metadata": {},
   "outputs": [],
   "source": [
    "import EcoFOCIpy.io.ncCFsave as ncCFsave\n",
    "import EcoFOCIpy.epic.EPIC_timeconvert as epic\n",
    "\n",
    "import xarray as xa\n",
    "import os"
   ]
  },
  {
   "cell_type": "code",
   "execution_count": 7,
   "id": "7f50adb7-ebb5-4ac6-9db6-6abf4c360b80",
   "metadata": {
    "scrolled": true
   },
   "outputs": [
    {
     "name": "stderr",
     "output_type": "stream",
     "text": [
      "/var/folders/6r/n_mpcj7d7pdf9ncqvjy5vb8c0000jm/T/ipykernel_56950/404029049.py:10: UserWarning: Times can't be serialized faithfully to int64 with requested units 'days since 1900-01-01'. Resolution of 'seconds' needed. Serializing times to floating point instead. Set encoding['dtype'] to integer dtype to serialize to int64. Set encoding['dtype'] to floating point dtype to silence this warning.\n",
      "  pdf.to_netcdf(f'{path}{files.replace('.nc','.cf.nc')}',\n",
      "/var/folders/6r/n_mpcj7d7pdf9ncqvjy5vb8c0000jm/T/ipykernel_56950/404029049.py:10: UserWarning: Times can't be serialized faithfully to int64 with requested units 'days since 1900-01-01'. Resolution of 'minutes' needed. Serializing times to floating point instead. Set encoding['dtype'] to integer dtype to serialize to int64. Set encoding['dtype'] to floating point dtype to silence this warning.\n",
      "  pdf.to_netcdf(f'{path}{files.replace('.nc','.cf.nc')}',\n",
      "/var/folders/6r/n_mpcj7d7pdf9ncqvjy5vb8c0000jm/T/ipykernel_56950/404029049.py:10: UserWarning: Times can't be serialized faithfully to int64 with requested units 'days since 1900-01-01'. Resolution of 'minutes' needed. Serializing times to floating point instead. Set encoding['dtype'] to integer dtype to serialize to int64. Set encoding['dtype'] to floating point dtype to silence this warning.\n",
      "  pdf.to_netcdf(f'{path}{files.replace('.nc','.cf.nc')}',\n",
      "/var/folders/6r/n_mpcj7d7pdf9ncqvjy5vb8c0000jm/T/ipykernel_56950/404029049.py:10: UserWarning: Times can't be serialized faithfully to int64 with requested units 'days since 1900-01-01'. Resolution of 'minutes' needed. Serializing times to floating point instead. Set encoding['dtype'] to integer dtype to serialize to int64. Set encoding['dtype'] to floating point dtype to silence this warning.\n",
      "  pdf.to_netcdf(f'{path}{files.replace('.nc','.cf.nc')}',\n",
      "/var/folders/6r/n_mpcj7d7pdf9ncqvjy5vb8c0000jm/T/ipykernel_56950/404029049.py:10: UserWarning: Times can't be serialized faithfully to int64 with requested units 'days since 1900-01-01'. Resolution of 'minutes' needed. Serializing times to floating point instead. Set encoding['dtype'] to integer dtype to serialize to int64. Set encoding['dtype'] to floating point dtype to silence this warning.\n",
      "  pdf.to_netcdf(f'{path}{files.replace('.nc','.cf.nc')}',\n",
      "/var/folders/6r/n_mpcj7d7pdf9ncqvjy5vb8c0000jm/T/ipykernel_56950/404029049.py:10: UserWarning: Times can't be serialized faithfully to int64 with requested units 'days since 1900-01-01'. Resolution of 'seconds' needed. Serializing times to floating point instead. Set encoding['dtype'] to integer dtype to serialize to int64. Set encoding['dtype'] to floating point dtype to silence this warning.\n",
      "  pdf.to_netcdf(f'{path}{files.replace('.nc','.cf.nc')}',\n",
      "/var/folders/6r/n_mpcj7d7pdf9ncqvjy5vb8c0000jm/T/ipykernel_56950/404029049.py:10: UserWarning: Times can't be serialized faithfully to int64 with requested units 'days since 1900-01-01'. Resolution of 'minutes' needed. Serializing times to floating point instead. Set encoding['dtype'] to integer dtype to serialize to int64. Set encoding['dtype'] to floating point dtype to silence this warning.\n",
      "  pdf.to_netcdf(f'{path}{files.replace('.nc','.cf.nc')}',\n",
      "/var/folders/6r/n_mpcj7d7pdf9ncqvjy5vb8c0000jm/T/ipykernel_56950/404029049.py:10: UserWarning: Times can't be serialized faithfully to int64 with requested units 'days since 1900-01-01'. Resolution of 'minutes' needed. Serializing times to floating point instead. Set encoding['dtype'] to integer dtype to serialize to int64. Set encoding['dtype'] to floating point dtype to silence this warning.\n",
      "  pdf.to_netcdf(f'{path}{files.replace('.nc','.cf.nc')}',\n"
     ]
    }
   ],
   "source": [
    "path = '/Users/bell/ecoraid/2015/Moorings/15ckpitae/final_data/'\n",
    "for files in os.listdir(path):\n",
    "    if '.nc' in files:\n",
    "        xdf = xa.load_dataset(f'{path}{files}',decode_times=False)\n",
    "        \n",
    "        pdf = xdf.copy()\n",
    "        \n",
    "        pdf['time'] = epic.EPIC2Datetime(pdf.time,pdf.time2)\n",
    "        pdf = pdf.drop_vars('time2')\n",
    "        pdf.to_netcdf(f'{path}{files.replace('.nc','.cf.nc')}',\n",
    "                     format='NETCDF3_CLASSIC',encoding={'time':{'units':'days since 1900-01-01'}})"
   ]
  },
  {
   "cell_type": "code",
   "execution_count": 6,
   "id": "e8c98a84-069b-4b56-8158-456a84b58a98",
   "metadata": {},
   "outputs": [
    {
     "data": {
      "text/plain": [
       "'sbe56_1min'"
      ]
     },
     "execution_count": 6,
     "metadata": {},
     "output_type": "execute_result"
    }
   ],
   "source": [
    "files"
   ]
  },
  {
   "cell_type": "code",
   "execution_count": null,
   "id": "a149d2be-0d07-4abe-b0d3-d94954ec61e1",
   "metadata": {},
   "outputs": [],
   "source": []
  }
 ],
 "metadata": {
  "kernelspec": {
   "display_name": "Python [conda env:p312]",
   "language": "python",
   "name": "conda-env-p312-py"
  },
  "language_info": {
   "codemirror_mode": {
    "name": "ipython",
    "version": 3
   },
   "file_extension": ".py",
   "mimetype": "text/x-python",
   "name": "python",
   "nbconvert_exporter": "python",
   "pygments_lexer": "ipython3",
   "version": "3.12.10"
  }
 },
 "nbformat": 4,
 "nbformat_minor": 5
}
