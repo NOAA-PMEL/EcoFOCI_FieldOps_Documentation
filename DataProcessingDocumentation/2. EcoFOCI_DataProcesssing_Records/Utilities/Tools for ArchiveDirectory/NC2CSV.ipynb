{
 "cells": [
  {
   "cell_type": "markdown",
   "id": "cc3dce67-ea36-4a13-b236-560704811644",
   "metadata": {},
   "source": [
    "# NetCDF to Pandas \n",
    "\n",
    "Export any \"Final\" nectdf ctd logs to a pandas editable csv"
   ]
  },
  {
   "cell_type": "code",
   "execution_count": 1,
   "id": "69cb5df5-364d-4387-bae5-e9327a8fbcd1",
   "metadata": {
    "tags": []
   },
   "outputs": [],
   "source": [
    "import xarray as xa\n",
    "import os"
   ]
  },
  {
   "cell_type": "code",
   "execution_count": 4,
   "id": "80b12718-adcb-408d-be82-897a3b92d4ae",
   "metadata": {
    "tags": []
   },
   "outputs": [],
   "source": [
    "path2files = '/Users/bell/ecoraid/2023/CTDCasts/skq202312s/working/'\n",
    "# path2files = '/Users/bell/Programs/ECOFOCI_Processing_Archive/2021/21bsst8a/'"
   ]
  },
  {
   "cell_type": "code",
   "execution_count": 5,
   "id": "8dceadb1-a62a-4641-ba59-7010f9761d66",
   "metadata": {
    "tags": []
   },
   "outputs": [
    {
     "name": "stdout",
     "output_type": "stream",
     "text": [
      "SKQ202312c051_ctd.nc\n",
      "SKQ202312c032_ctd.nc\n",
      "SKQ202312c043_ctd.nc\n",
      "SKQ202312c020_ctd.nc\n",
      "SKQ202312c008_ctd.nc\n",
      "SKQ202312c075_ctd.nc\n",
      "SKQ202312c016_ctd.nc\n",
      "SKQ202312c067_ctd.nc\n",
      "SKQ202312c004_ctd.nc\n",
      "SKQ202312c079_ctd.nc\n",
      "SKQ202312c022_ctd.nc\n",
      "SKQ202312c041_ctd.nc\n",
      "SKQ202312c030_ctd.nc\n",
      "SKQ202312c053_ctd.nc\n",
      "SKQ202312c006_ctd.nc\n",
      "SKQ202312c018_ctd.nc\n",
      "SKQ202312c065_ctd.nc\n",
      "SKQ202312c014_ctd.nc\n",
      "SKQ202312c069_ctd.nc\n",
      "SKQ202312c077_ctd.nc\n",
      "SKQ202312c084_ctd.nc\n",
      "SKQ202312c010_ctd.nc\n",
      "SKQ202312c073_ctd.nc\n",
      "SKQ202312c002_ctd.nc\n",
      "SKQ202312c061_ctd.nc\n",
      "SKQ202312c049_ctd.nc\n",
      "SKQ202312c034_ctd.nc\n",
      "SKQ202312c057_ctd.nc\n",
      "SKQ202312c026_ctd.nc\n",
      "SKQ202312c045_ctd.nc\n",
      "SKQ202312c038_ctd.nc\n",
      "SKQ202312c080_ctd.nc\n",
      "SKQ202312c082_ctd.nc\n",
      "SKQ202312c063_ctd.nc\n",
      "SKQ202312c071_ctd.nc\n",
      "SKQ202312c012_ctd.nc\n",
      "SKQ202312c047_ctd.nc\n",
      "SKQ202312c059_ctd.nc\n",
      "SKQ202312c024_ctd.nc\n",
      "SKQ202312c055_ctd.nc\n",
      "SKQ202312c028_ctd.nc\n",
      "SKQ202312c036_ctd.nc\n",
      "SKQ202312c017_ctd.nc\n",
      "SKQ202312c074_ctd.nc\n",
      "SKQ202312c009_ctd.nc\n",
      "SKQ202312c078_ctd.nc\n",
      "SKQ202312c005_ctd.nc\n",
      "SKQ202312c066_ctd.nc\n",
      "SKQ202312c033_ctd.nc\n",
      "SKQ202312c050_ctd.nc\n",
      "SKQ202312c021_ctd.nc\n",
      "SKQ202312c042_ctd.nc\n",
      "SKQ202312c064_ctd.nc\n",
      "SKQ202312c019_ctd.nc\n",
      "SKQ202312c007_ctd.nc\n",
      "SKQ202312c076_ctd.nc\n",
      "SKQ202312c068_ctd.nc\n",
      "SKQ202312c015_ctd.nc\n",
      "SKQ202312c023_ctd.nc\n",
      "SKQ202312c052_ctd.nc\n",
      "SKQ202312c031_ctd.nc\n",
      "SKQ202312c081_ctd.nc\n",
      "SKQ202312c056_ctd.nc\n",
      "SKQ202312c035_ctd.nc\n",
      "SKQ202312c048_ctd.nc\n",
      "SKQ202312c039_ctd.nc\n",
      "SKQ202312c044_ctd.nc\n",
      "SKQ202312c027_ctd.nc\n",
      "SKQ202312c072_ctd.nc\n",
      "SKQ202312c011_ctd.nc\n",
      "SKQ202312c060_ctd.nc\n",
      "SKQ202312c003_ctd.nc\n",
      "SKQ202312c025_ctd.nc\n",
      "SKQ202312c058_ctd.nc\n",
      "SKQ202312c046_ctd.nc\n",
      "SKQ202312c037_ctd.nc\n",
      "SKQ202312c029_ctd.nc\n",
      "SKQ202312c054_ctd.nc\n",
      "SKQ202312c001_ctd.nc\n",
      "SKQ202312c013_ctd.nc\n",
      "SKQ202312c070_ctd.nc\n",
      "SKQ202312c083_ctd.nc\n"
     ]
    }
   ],
   "source": [
    "for file in os.listdir(path2files):\n",
    "    if '.nc' in file:\n",
    "        print(file)\n",
    "        xdf = xa.load_dataset(path2files+file)\n",
    "        df = xdf.to_dataframe()\n",
    "        (df.\n",
    "        # (df.droplevel(level=['depth','latitude','longitude'],axis=0).\n",
    "         # resample('1H').mean().\n",
    "         to_csv(path2files+file.replace('.nc','.to_edit.csv')))"
   ]
  },
  {
   "cell_type": "markdown",
   "id": "4f7143da-b932-447d-bfba-c1ea47e20cd6",
   "metadata": {},
   "source": [
    "**Use editable files to replace initial archive files**"
   ]
  },
  {
   "cell_type": "code",
   "execution_count": 26,
   "id": "ec9e75fd-7e05-42f1-95e6-0667dc6fc3c1",
   "metadata": {
    "collapsed": true,
    "jupyter": {
     "outputs_hidden": true
    },
    "tags": []
   },
   "outputs": [
    {
     "name": "stdout",
     "output_type": "stream",
     "text": [
      "AQ2301c035_ctd.nc\n",
      "AQ2301c027_ctd.nc\n",
      "AQ2301c039_ctd.nc\n",
      "AQ2301c011_ctd.nc\n",
      "AQ2301c003_ctd.nc\n",
      "AQ2301c025_ctd.nc\n",
      "AQ2301c029_ctd.nc\n",
      "AQ2301c037_ctd.nc\n",
      "AQ2301c001_ctd.nc\n",
      "AQ2301c013_ctd.nc\n",
      "AQ2301c009_ctd.nc\n",
      "AQ2301c017_ctd.nc\n",
      "AQ2301c005_ctd.nc\n",
      "AQ2301c033_ctd.nc\n",
      "AQ2301c042_ctd.nc\n",
      "AQ2301c021_ctd.nc\n",
      "AQ2301c007_ctd.nc\n",
      "AQ2301c019_ctd.nc\n",
      "AQ2301c015_ctd.nc\n",
      "AQ2301c023_ctd.nc\n",
      "AQ2301c040_ctd.nc\n",
      "AQ2301c031_ctd.nc\n",
      "AQ2301c010_ctd.nc\n",
      "AQ2301c034_ctd.nc\n",
      "AQ2301c038_ctd.nc\n",
      "AQ2301c026_ctd.nc\n",
      "AQ2301c012_ctd.nc\n",
      "AQ2301c024_ctd.nc\n",
      "AQ2301c036_ctd.nc\n",
      "AQ2301c028_ctd.nc\n",
      "AQ2301c032_ctd.nc\n",
      "AQ2301c020_ctd.nc\n",
      "AQ2301c043_ctd.nc\n",
      "AQ2301c016_ctd.nc\n",
      "AQ2301c008_ctd.nc\n",
      "AQ2301c004_ctd.nc\n",
      "AQ2301c041_ctd.nc\n",
      "AQ2301c022_ctd.nc\n",
      "AQ2301c030_ctd.nc\n",
      "AQ2301c018_ctd.nc\n",
      "AQ2301c006_ctd.nc\n",
      "AQ2301c014_ctd.nc\n"
     ]
    }
   ],
   "source": [
    "for file in os.listdir(path2files):\n",
    "    if '.nc' in file:\n",
    "        print(file)\n",
    "        xdf = xa.load_dataset(path2files+file)\n",
    "        df = xdf.to_dataframe()\n",
    "        df['profile_id'] = file.split('_')[0].replace('AQ2301c','ctd')\n",
    "        (df.loc[:,['QC' not in i for i in df.columns]].\n",
    "            to_csv(path2files+file.replace('.nc','.to_edit.csv')))"
   ]
  },
  {
   "cell_type": "code",
   "execution_count": null,
   "id": "7e918750-5c81-4870-b3b8-c93ccb2f8472",
   "metadata": {},
   "outputs": [],
   "source": []
  }
 ],
 "metadata": {
  "kernelspec": {
   "display_name": "Python [conda env:py311] *",
   "language": "python",
   "name": "conda-env-py311-py"
  },
  "language_info": {
   "codemirror_mode": {
    "name": "ipython",
    "version": 3
   },
   "file_extension": ".py",
   "mimetype": "text/x-python",
   "name": "python",
   "nbconvert_exporter": "python",
   "pygments_lexer": "ipython3",
   "version": "3.11.10"
  }
 },
 "nbformat": 4,
 "nbformat_minor": 5
}
